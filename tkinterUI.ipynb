{
 "cells": [
  {
   "cell_type": "code",
   "execution_count": 1,
   "id": "9b5b0c8b-195d-4876-9fb6-17bb38cf0b96",
   "metadata": {},
   "outputs": [
    {
     "ename": "KeyboardInterrupt",
     "evalue": "",
     "output_type": "error",
     "traceback": [
      "\u001b[1;31m---------------------------------------------------------------------------\u001b[0m",
      "\u001b[1;31mKeyboardInterrupt\u001b[0m                         Traceback (most recent call last)",
      "\u001b[1;32mc:\\Users\\fullm\\Documents\\HyperparameterGridSearch\\tkinterUI.ipynb Cell 1\u001b[0m line \u001b[0;36m3\n\u001b[0;32m      <a href='vscode-notebook-cell:/c%3A/Users/fullm/Documents/HyperparameterGridSearch/tkinterUI.ipynb#W0sZmlsZQ%3D%3D?line=0'>1</a>\u001b[0m \u001b[39mfrom\u001b[39;00m \u001b[39mtkinter\u001b[39;00m \u001b[39mimport\u001b[39;00m \u001b[39m*\u001b[39m\n\u001b[1;32m----> <a href='vscode-notebook-cell:/c%3A/Users/fullm/Documents/HyperparameterGridSearch/tkinterUI.ipynb#W0sZmlsZQ%3D%3D?line=2'>3</a>\u001b[0m \u001b[39mimport\u001b[39;00m \u001b[39mgridsearch\u001b[39;00m\n\u001b[0;32m      <a href='vscode-notebook-cell:/c%3A/Users/fullm/Documents/HyperparameterGridSearch/tkinterUI.ipynb#W0sZmlsZQ%3D%3D?line=4'>5</a>\u001b[0m window\u001b[39m=\u001b[39mTk()\n\u001b[0;32m      <a href='vscode-notebook-cell:/c%3A/Users/fullm/Documents/HyperparameterGridSearch/tkinterUI.ipynb#W0sZmlsZQ%3D%3D?line=6'>7</a>\u001b[0m \u001b[39mdef\u001b[39;00m \u001b[39mdelete\u001b[39m():\n",
      "File \u001b[1;32mc:\\Users\\fullm\\Documents\\HyperparameterGridSearch\\gridsearch.py:3\u001b[0m\n\u001b[0;32m      1\u001b[0m \u001b[39mimport\u001b[39;00m \u001b[39mtime\u001b[39;00m\n\u001b[0;32m      2\u001b[0m \u001b[39mimport\u001b[39;00m \u001b[39mnumpy\u001b[39;00m \u001b[39mas\u001b[39;00m \u001b[39mnp\u001b[39;00m\n\u001b[1;32m----> 3\u001b[0m \u001b[39mimport\u001b[39;00m \u001b[39mtensorflow\u001b[39;00m \u001b[39mas\u001b[39;00m \u001b[39mtf\u001b[39;00m\n\u001b[0;32m      5\u001b[0m \u001b[39mimport\u001b[39;00m \u001b[39mkeras\u001b[39;00m\n\u001b[0;32m      6\u001b[0m \u001b[39mfrom\u001b[39;00m \u001b[39mkeras\u001b[39;00m\u001b[39m.\u001b[39;00m\u001b[39mmodels\u001b[39;00m \u001b[39mimport\u001b[39;00m Sequential\n",
      "File \u001b[1;32mc:\\Users\\fullm\\Documents\\HyperparameterGridSearch\\.venv\\lib\\site-packages\\tensorflow\\__init__.py:54\u001b[0m\n\u001b[0;32m     52\u001b[0m \u001b[39mfrom\u001b[39;00m \u001b[39m.\u001b[39;00m\u001b[39m_api\u001b[39;00m\u001b[39m.\u001b[39;00m\u001b[39mv2\u001b[39;00m \u001b[39mimport\u001b[39;00m config\n\u001b[0;32m     53\u001b[0m \u001b[39mfrom\u001b[39;00m \u001b[39m.\u001b[39;00m\u001b[39m_api\u001b[39;00m\u001b[39m.\u001b[39;00m\u001b[39mv2\u001b[39;00m \u001b[39mimport\u001b[39;00m data\n\u001b[1;32m---> 54\u001b[0m \u001b[39mfrom\u001b[39;00m \u001b[39m.\u001b[39;00m\u001b[39m_api\u001b[39;00m\u001b[39m.\u001b[39;00m\u001b[39mv2\u001b[39;00m \u001b[39mimport\u001b[39;00m debugging\n\u001b[0;32m     55\u001b[0m \u001b[39mfrom\u001b[39;00m \u001b[39m.\u001b[39;00m\u001b[39m_api\u001b[39;00m\u001b[39m.\u001b[39;00m\u001b[39mv2\u001b[39;00m \u001b[39mimport\u001b[39;00m distribute\n\u001b[0;32m     56\u001b[0m \u001b[39mfrom\u001b[39;00m \u001b[39m.\u001b[39;00m\u001b[39m_api\u001b[39;00m\u001b[39m.\u001b[39;00m\u001b[39mv2\u001b[39;00m \u001b[39mimport\u001b[39;00m dtypes\n",
      "File \u001b[1;32m<frozen importlib._bootstrap>:1027\u001b[0m, in \u001b[0;36m_find_and_load\u001b[1;34m(name, import_)\u001b[0m\n",
      "File \u001b[1;32m<frozen importlib._bootstrap>:1006\u001b[0m, in \u001b[0;36m_find_and_load_unlocked\u001b[1;34m(name, import_)\u001b[0m\n",
      "File \u001b[1;32m<frozen importlib._bootstrap>:688\u001b[0m, in \u001b[0;36m_load_unlocked\u001b[1;34m(spec)\u001b[0m\n",
      "File \u001b[1;32m<frozen importlib._bootstrap_external>:879\u001b[0m, in \u001b[0;36mexec_module\u001b[1;34m(self, module)\u001b[0m\n",
      "File \u001b[1;32m<frozen importlib._bootstrap_external>:975\u001b[0m, in \u001b[0;36mget_code\u001b[1;34m(self, fullname)\u001b[0m\n",
      "File \u001b[1;32m<frozen importlib._bootstrap_external>:1074\u001b[0m, in \u001b[0;36mget_data\u001b[1;34m(self, path)\u001b[0m\n",
      "\u001b[1;31mKeyboardInterrupt\u001b[0m: "
     ]
    }
   ],
   "source": [
    "from tkinter import *\n",
    "\n",
    "window=Tk()\n",
    "\n",
    "def delete():\n",
    "    entry1.delete(0,END)\n",
    "    entry2.delete(0,END)\n",
    "    entry3.delete(0,END)  ## USED TO CLEAR ROWS \n",
    "    result.delete(0,END)\n",
    "\n",
    "def add():\n",
    "    Optimizer=(entry1.get())\n",
    "    Epochs=(entry2.get())\n",
    "    batchSize=(entry3.get())\n",
    "    d =  Optimizer + \" \" + Epochs + \" \"  + batchSize  #METHOD ADDED TO TEST OUTPUT OF UI \n",
    "    result.insert(0,d) #TO GET USERINPUT USE entry1.get() FOR OPTIMIZER entry2.get()FOR EPOCHS \n",
    "                                                                                    #entry3.get() for BATCH SIZE\n",
    "\n",
    "mylabel=Label()\n",
    "mylabel1=Label()\n",
    "\n",
    "label1=Label(window,text=\"Optimizer: \", padx=20,pady=10)\n",
    "label2=Label(window,text=\"Epochs: \", padx=20,pady=10)\n",
    "label3=Label(window,text=\"Batch Size: \")\n",
    "entry1=Entry(window,width=30,borderwidth=5)\n",
    "entry2=Entry(window,width=30,borderwidth=5)\n",
    "entry3=Entry(window,width=30,borderwidth=5)\n",
    "add=Button(window,text=\"Add\", padx=10,pady=5,command = add)\n",
    "clear=Button(window,text=\"Clear\",padx=10,pady=5,command=delete)\n",
    "result =Entry(window,width=30,borderwidth=5)\n",
    "\n",
    "label1.grid(row=0,column=0)\n",
    "label2.grid(row=1,column=0)\n",
    "label3.grid(row=2,column=0)\n",
    "    \n",
    "entry1.grid(row=0,column=1)\n",
    "entry2.grid(row=1,column=1)\n",
    "entry3.grid(row=2,column=1)\n",
    "add.grid(row=3,column=0,columnspan=3)           \n",
    "clear.grid(row=3,column=1)\n",
    "result.grid(row=4,column=0,columnspan=4)\n",
    "\n",
    "window.mainloop()"
   ]
  }
 ],
 "metadata": {
  "kernelspec": {
   "display_name": "Python 3 (ipykernel)",
   "language": "python",
   "name": "python3"
  },
  "language_info": {
   "codemirror_mode": {
    "name": "ipython",
    "version": 3
   },
   "file_extension": ".py",
   "mimetype": "text/x-python",
   "name": "python",
   "nbconvert_exporter": "python",
   "pygments_lexer": "ipython3",
   "version": "3.10.11"
  }
 },
 "nbformat": 4,
 "nbformat_minor": 5
}
