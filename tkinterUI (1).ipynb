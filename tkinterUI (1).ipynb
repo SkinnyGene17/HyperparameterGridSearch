{
 "cells": [
  {
   "cell_type": "code",
   "execution_count": 3,
   "id": "9b5b0c8b-195d-4876-9fb6-17bb38cf0b96",
   "metadata": {},
   "outputs": [],
   "source": [
    "from tkinter import *\n",
    "window=Tk()\n",
    "\n",
    "def delete():\n",
    "    entry1.delete(0,END)\n",
    "    entry2.delete(0,END)\n",
    "    entry3.delete(0,END)  ## USED TO CLEAR ROWS \n",
    "    result.delete(0,END)\n",
    "\n",
    "def add():\n",
    "    Optimizer=(entry1.get())\n",
    "    Epochs=(entry2.get())\n",
    "    batchSize=(entry3.get())\n",
    "    d =  Optimizer + \" \" + Epochs + \" \"  + batchSize  #METHOD ADDED TO TEST OUTPUT OF UI \n",
    "    result.insert(0,d) #TO GET USERINPUT USE entry1.get() FOR OPTIMIZER entry2.get()FOR EPOCHS \n",
    "                                                                                    #entry3.get() for BATCH SIZE\n",
    "\n",
    "mylabel=Label()\n",
    "mylabel1=Label()\n",
    "\n",
    "label1=Label(window,text=\"Optimizer: \", padx=20,pady=10)\n",
    "label2=Label(window,text=\"Epochs: \", padx=20,pady=10)\n",
    "label3=Label(window,text=\"Batch Size: \")\n",
    "entry1=Entry(window,width=30,borderwidth=5)\n",
    "entry2=Entry(window,width=30,borderwidth=5)\n",
    "entry3=Entry(window,width=30,borderwidth=5)\n",
    "add=Button(window,text=\"Add\", padx=10,pady=5,command = add)\n",
    "clear=Button(window,text=\"Clear\",padx=10,pady=5,command=delete)\n",
    "result =Entry(window,width=30,borderwidth=5)\n",
    "\n",
    "label1.grid(row=0,column=0)\n",
    "label2.grid(row=1,column=0)\n",
    "label3.grid(row=2,column=0)\n",
    "    \n",
    "entry1.grid(row=0,column=1)\n",
    "entry2.grid(row=1,column=1)\n",
    "entry3.grid(row=2,column=1)\n",
    "add.grid(row=3,column=0,columnspan=3)           \n",
    "clear.grid(row=3,column=1)\n",
    "result.grid(row=4,column=0,columnspan=4)\n",
    "\n",
    "window.mainloop()"
   ]
  }
 ],
 "metadata": {
  "kernelspec": {
   "display_name": "Python 3 (ipykernel)",
   "language": "python",
   "name": "python3"
  },
  "language_info": {
   "codemirror_mode": {
    "name": "ipython",
    "version": 3
   },
   "file_extension": ".py",
   "mimetype": "text/x-python",
   "name": "python",
   "nbconvert_exporter": "python",
   "pygments_lexer": "ipython3",
   "version": "3.10.13"
  }
 },
 "nbformat": 4,
 "nbformat_minor": 5
}
